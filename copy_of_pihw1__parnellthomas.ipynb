{
  "nbformat": 4,
  "nbformat_minor": 0,
  "metadata": {
    "colab": {
      "provenance": [],
      "authorship_tag": "ABX9TyNnMwBDpplnRT2aFgapebXo",
      "include_colab_link": true
    },
    "kernelspec": {
      "name": "python3",
      "display_name": "Python 3"
    },
    "language_info": {
      "name": "python"
    }
  },
  "cells": [
    {
      "cell_type": "markdown",
      "metadata": {
        "id": "view-in-github",
        "colab_type": "text"
      },
      "source": [
        "<a href=\"https://colab.research.google.com/github/parnellt3150/CTI110/blob/main/copy_of_pihw1__parnellthomas.ipynb\" target=\"_parent\"><img src=\"https://colab.research.google.com/assets/colab-badge.svg\" alt=\"Open In Colab\"/></a>"
      ]
    },
    {
      "cell_type": "code",
      "execution_count": null,
      "metadata": {
        "id": "mIxgkLfArV1f",
        "outputId": "6fc1c864-8f0b-4922-9a28-64c538c8b14f",
        "colab": {
          "base_uri": "https://localhost:8080/"
        }
      },
      "outputs": [
        {
          "output_type": "stream",
          "name": "stdout",
          "text": [
            "-------Calulating Exponents-------\n",
            "\n",
            "\n",
            "Enter an integer as the base value: 7\n",
            "Enter an interger as the exponent: 3\n",
            "\n",
            "\n",
            "7 raised to the power of 3 is 343 !!\n",
            "\n",
            "\n",
            "-------Addition and Subtraction-------\n",
            "\n",
            "\n",
            "Enter a starting integer:  10\n",
            "Enter an integer to add:  6\n",
            "Enter an integer to subtract:  4\n",
            "\n",
            "\n",
            "10 + 6 - 4 is equal to 12\n"
          ]
        }
      ],
      "source": [
        "# THOMAS PARNELL\n",
        "# 02/12/2025\n",
        "# P1HW1\n",
        "# Using math expressions with user input\n",
        "\n",
        "print(\"-------Calulating Exponents-------\")\n",
        "\n",
        "print()\n",
        "print()\n",
        "\n",
        "#get integer from the string\n",
        "base_value = int (input(\"Enter an integer as the base value: \"))\n",
        "exponent = int (input(\"Enter an interger as the exponent: \"))\n",
        "\n",
        "print()\n",
        "print()\n",
        "\n",
        "# Display math result to the user\n",
        "print(base_value, \"raised to the power of\", exponent, \"is\", base_value**exponent, \"!!\")\n",
        "\n",
        "print()\n",
        "print()\n",
        "\n",
        "#Addition and Subtraction Section\n",
        "print(\"-------Addition and Subtraction-------\")\n",
        "print()\n",
        "print()\n",
        "\n",
        "#Enter a starting integer\n",
        "starting = int (input(\"Enter a starting integer:  \"))\n",
        "\n",
        "#Enter an integer to add\n",
        "add = int (input(\"Enter an integer to add:  \"))\n",
        "\n",
        "#Enter an integer to subtract\n",
        "subtract = int (input(\"Enter an integer to subtract:  \"))\n",
        "\n",
        "print()\n",
        "print()\n",
        "\n",
        "#Display math result to user\n",
        "print(starting, \"+\", add, \"-\", subtract, \"is equal to\", starting + add - subtract)\n"
      ]
    }
  ]
}