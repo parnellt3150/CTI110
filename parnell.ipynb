{
  "nbformat": 4,
  "nbformat_minor": 0,
  "metadata": {
    "colab": {
      "provenance": [],
      "authorship_tag": "ABX9TyPOxrmOfC2wvHRiR47ygEnj",
      "include_colab_link": true
    },
    "kernelspec": {
      "name": "python3",
      "display_name": "Python 3"
    },
    "language_info": {
      "name": "python"
    }
  },
  "cells": [
    {
      "cell_type": "markdown",
      "metadata": {
        "id": "view-in-github",
        "colab_type": "text"
      },
      "source": [
        "<a href=\"https://colab.research.google.com/github/parnellt3150/CTI110/blob/main/parnell.ipynb\" target=\"_parent\"><img src=\"https://colab.research.google.com/assets/colab-badge.svg\" alt=\"Open In Colab\"/></a>"
      ]
    },
    {
      "cell_type": "code",
      "execution_count": 1,
      "metadata": {
        "colab": {
          "base_uri": "https://localhost:8080/"
        },
        "id": "OaC-N2C06hhX",
        "outputId": "521bb225-810f-48ec-c0a4-2a9362150b81"
      },
      "outputs": [
        {
          "name": "stdout",
          "output_type": "stream",
          "text": [
            "\n",
            "Enter employee's name: jhon\n",
            "Enter number of hours worked: 40\n",
            "Enter employee's pay rate: 5\n"
          ]
        }
      ],
      "source": [
        "#PARNELL_HOMAS\n",
        "\n",
        "print()\n",
        "name = input (\"Enter employee's name: \")\n",
        "hrs_work [1]\n",
        "  reg_pay = hrs_work * rate\n",
        "\n",
        "print('-----------------------------')\n",
        "prinr(f\"{'Employee name:':<16} {name}\")\n",
        "print()\n",
        "print(f\"{'Hours worked':<14} {'Pay Rate':<12} {'Overtime Pay':<20} {'RegHour pay':<20} {'Gross Pay'}\")\n",
        "print(f\"Hours Worked: {hrs_work}\")\n",
        "print(f\"Pay Rate: {rate}\")\n",
        "print(f\"Regular Hours: {reg_hrs}\")\n",
        "\n",
        "Enter employee's name: jhon= float (input (\"Enter number of hours worked: \"))\n",
        "rate = float (input (\"Enter employee's pay rate: \"))\n",
        "\n",
        "\n",
        "# Over Work\n",
        "if hrs_work > 40:\n",
        "  ot_hrs = hrs_work - 40\n",
        "  ot_pay = ot_hrs *rate * 1.5\n",
        "  reg_hrs = 40\n",
        "  reg_pay = reg_hrs * rate\n",
        "# No Over Work\n",
        "\n",
        "else:\n",
        "  ot_hrs = 0\n",
        "  ot_pay = 0\n",
        "  reg_hrs = hrs_work\n",
        "  reg_pay = hrs_work * rate\n",
        "\n",
        "print('-----------------------------')\n",
        "prinr(f\"{'Employee name:':<16} {name}\")\n",
        "print()\n",
        "print(f\"{'Hours worked':<14} {'Pay Rate':<12} {'Overtime Pay':<20} {'RegHour pay':<20} {'Gross Pay'}\")\n"
      ]
    }
  ]
}