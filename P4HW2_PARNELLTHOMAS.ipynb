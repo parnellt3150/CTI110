{
  "nbformat": 4,
  "nbformat_minor": 0,
  "metadata": {
    "colab": {
      "provenance": [],
      "authorship_tag": "ABX9TyNZl/ImBAsuq3OiR1NvcYdL",
      "include_colab_link": true
    },
    "kernelspec": {
      "name": "python3",
      "display_name": "Python 3"
    },
    "language_info": {
      "name": "python"
    }
  },
  "cells": [
    {
      "cell_type": "markdown",
      "metadata": {
        "id": "view-in-github",
        "colab_type": "text"
      },
      "source": [
        "<a href=\"https://colab.research.google.com/github/parnellt3150/CTI110/blob/main/P4HW2_PARNELLTHOMAS.ipynb\" target=\"_parent\"><img src=\"https://colab.research.google.com/assets/colab-badge.svg\" alt=\"Open In Colab\"/></a>"
      ]
    },
    {
      "cell_type": "code",
      "execution_count": 10,
      "metadata": {
        "colab": {
          "base_uri": "https://localhost:8080/"
        },
        "id": "b1-Nbg5fBszR",
        "outputId": "28488417-0d79-4207-cc52-02a8f93c1821"
      },
      "outputs": [
        {
          "output_type": "stream",
          "name": "stdout",
          "text": [
            "Enter the employee's name (enter 'Done' to finish): joe\n",
            "Enter number of hours worked? 10\n",
            "Enter the employee's pay rate? 15\n",
            "-------------------------------------\n",
            "Employee name:  joe \n",
            "\n",
            "Hours Worked   Pay Rate    OverTime    OverTime Pay        RegHour Pay         Gross Pay\n",
            "----------------------------------------------------------------------------------------------------\n",
            "10.0           15.0        0           0.00                $150.00              $150.00\n",
            "----------------------------------------------------------------------------------------------------\n",
            "Enter the employee's name (enter 'Done' to finish): jane\n",
            "Enter number of hours worked? 60\n",
            "Enter the employee's pay rate? 15\n",
            "-------------------------------------\n",
            "Employee name:  jane \n",
            "\n",
            "Hours Worked   Pay Rate    OverTime    OverTime Pay        RegHour Pay         Gross Pay\n",
            "----------------------------------------------------------------------------------------------------\n",
            "60.0           15.0        20.0        450.00              $600.00              $1050.00\n",
            "----------------------------------------------------------------------------------------------------\n",
            "Enter the employee's name (enter 'Done' to finish): Done\n",
            "Number of employees: 2\n",
            "Total overtime paid: $450.00\n",
            "Total regular pay: $750.00\n",
            "Total gross pay: $1200.00\n"
          ]
        }
      ],
      "source": [
        "#THOMAS PARNELL\n",
        "#3/14/2024\n",
        "#P4HW2\n",
        "\n",
        "# This program will calculate an employee's pay\n",
        "\n",
        "# Initialize accumulator variables to 0 before the loop\n",
        "totalOvertime = 0\n",
        "totalRegularPay = 0\n",
        "totalGrossPay = 0\n",
        "employeeCount = 0\n",
        "\n",
        "# Begin loop to input employee data\n",
        "while True:\n",
        "    # Request employee information\n",
        "    name = input(\"Enter the employee's name (enter 'Done' to finish): \")\n",
        "\n",
        "    # Check if user wants to terminate\n",
        "    if name.lower() == 'done':\n",
        "        break\n",
        "\n",
        "    hoursWorked = float(input(\"Enter number of hours worked? \"))\n",
        "    payRate = float(input(\"Enter the employee's pay rate? \"))\n",
        "\n",
        "    if hoursWorked > 40:\n",
        "        # Calculate overtime\n",
        "        ovtHours = hoursWorked - 40\n",
        "        # Calculate overtime pay\n",
        "        ovtPay = ovtHours * (payRate * 1.5)\n",
        "        # Calculate pay for regular hours\n",
        "        regPay = 40 * payRate\n",
        "        # Calculate gross pay\n",
        "        grossPay = regPay + ovtPay\n",
        "    else:\n",
        "        ovtHours = 0\n",
        "        ovtPay = 0\n",
        "        regPay = payRate * hoursWorked\n",
        "        grossPay = regPay\n",
        "\n",
        "    # Accumulate totals\n",
        "    totalOvertime += ovtPay\n",
        "    totalRegularPay += regPay\n",
        "    totalGrossPay += grossPay\n",
        "    employeeCount += 1\n",
        "\n",
        "    # Print employee pay details\n",
        "    print(\"-\" * 37)\n",
        "    print(\"Employee name: \", name, \"\\n\")\n",
        "    print(f'{\"Hours Worked\":<15}{\"Pay Rate\":<12}{\"OverTime\":<12}{\"OverTime Pay\":<20}{\"RegHour Pay\":<20}{\"Gross Pay\"}')\n",
        "    print(\"-\" * 100)\n",
        "    print(f'{hoursWorked:<15}{payRate:<12}{ovtHours:<12}{ovtPay:<20.2f}{\"$\"}{regPay:<20.2f}{\"$\"}{grossPay:.2f}')\n",
        "    print(\"-\" * 100)\n",
        "\n",
        "# Print totals and summary\n",
        "print(f\"Number of employees: {employeeCount}\")\n",
        "print(f\"Total overtime paid: ${totalOvertime:.2f}\")\n",
        "print(f\"Total regular pay: ${totalRegularPay:.2f}\")\n",
        "print(f\"Total gross pay: ${totalGrossPay:.2f}\")\n",
        "\n",
        "\n",
        "\n",
        "\n",
        "\n",
        "\n"
      ]
    }
  ]
}