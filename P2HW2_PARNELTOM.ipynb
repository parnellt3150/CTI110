{
  "nbformat": 4,
  "nbformat_minor": 0,
  "metadata": {
    "colab": {
      "provenance": [],
      "authorship_tag": "ABX9TyMt+Wl7LnGz1t+XMbC2zWuE",
      "include_colab_link": true
    },
    "kernelspec": {
      "name": "python3",
      "display_name": "Python 3"
    },
    "language_info": {
      "name": "python"
    }
  },
  "cells": [
    {
      "cell_type": "markdown",
      "metadata": {
        "id": "view-in-github",
        "colab_type": "text"
      },
      "source": [
        "<a href=\"https://colab.research.google.com/github/parnellt3150/CTI110/blob/main/P2HW2_PARNELTOM.ipynb\" target=\"_parent\"><img src=\"https://colab.research.google.com/assets/colab-badge.svg\" alt=\"Open In Colab\"/></a>"
      ]
    },
    {
      "cell_type": "code",
      "execution_count": null,
      "metadata": {
        "colab": {
          "base_uri": "https://localhost:8080/"
        },
        "id": "tn7K-r4scf4D",
        "outputId": "d0f52e7d-6e03-46cb-c096-47b1c05781ec"
      },
      "outputs": [
        {
          "output_type": "stream",
          "name": "stdout",
          "text": [
            "Enter grade for Module 1: 50\n",
            "Enter grade for Module 2: 50\n",
            "Enter grade for Module 3: 50\n",
            "Enter grade for Module 4: 50\n",
            "Enter grade for Module 5: 50\n",
            "Enter grade for Module 6: 50\n",
            "[50.0, 50.0, 50.0, 50.0, 50.0, 50.0]\n",
            "-------------------Results----------------------------------------------\n",
            "Lowest Grade:        50.0\n",
            "Highest Grade:       50.0\n",
            "Sum of Grade:        300.0\n",
            "Average:             50.00\n",
            "------------------------------------------------------------------------\n"
          ]
        }
      ],
      "source": [
        "# THOMAS PARNELL\n",
        "# 2/24//2025\n",
        "# P2HW2\n",
        "# ENTER GRADES FOLLOWING TEST\n",
        "\n",
        "# Get 6 Grares from the user they should be floats\n",
        "grade1 = float(input(\"Enter grade for Module 1: \"))\n",
        "grade2 = float(input(\"Enter grade for Module 2: \"))\n",
        "grade3 = float(input(\"Enter grade for Module 3: \"))\n",
        "grade4 = float(input(\"Enter grade for Module 4: \"))\n",
        "grade5 = float(input(\"Enter grade for Module 5: \"))\n",
        "grade6 = float(input(\"Enter grade for Module 6: \"))\n",
        "\n",
        "# create an empty list\n",
        "grade_list = []\n",
        "\n",
        "# use append method to add all grades into the list\n",
        "# coe looks like this : list_name.append()(what_to_add-to _list)\n",
        "grade_list.append(grade1)\n",
        "grade_list.append(grade2)\n",
        "grade_list.append(grade3)\n",
        "grade_list.append(grade4)\n",
        "grade_list.append(grade5)\n",
        "grade_list.append(grade6)\n",
        "\n",
        "# dispaly the list\n",
        "print(grade_list)\n",
        "print\n",
        "\n",
        "# Display Value to user\n",
        "print(\"-------------------Results----------------------------------------------\")\n",
        "print(f\"{'Lowest Grade:': <20} {min(grade_list)}\")\n",
        "print(f\"{'Highest Grade: ':<20} {max(grade_list)}\")\n",
        "print(f\"{'Sum of Grade:': <20} {sum(grade_list)}\")\n",
        "Average =sum(grade_list)/len(grade_list)\n",
        "print(f\"{'Average:': <20} {Average:.2f}\")\n",
        "print(\"------------------------------------------------------------------------\")\n",
        "\n",
        "\n",
        "\n"
      ]
    }
  ]
}