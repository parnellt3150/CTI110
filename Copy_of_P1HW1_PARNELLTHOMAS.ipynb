{
  "nbformat": 4,
  "nbformat_minor": 0,
  "metadata": {
    "colab": {
      "provenance": [],
      "authorship_tag": "ABX9TyMgSlP8oz8R0AlQ0WxJs/DM",
      "include_colab_link": true
    },
    "kernelspec": {
      "name": "python3",
      "display_name": "Python 3"
    },
    "language_info": {
      "name": "python"
    }
  },
  "cells": [
    {
      "cell_type": "markdown",
      "metadata": {
        "id": "view-in-github",
        "colab_type": "text"
      },
      "source": [
        "<a href=\"https://colab.research.google.com/github/parnellt3150/CTI110/blob/main/Copy_of_P1HW1_PARNELLTHOMAS.ipynb\" target=\"_parent\"><img src=\"https://colab.research.google.com/assets/colab-badge.svg\" alt=\"Open In Colab\"/></a>"
      ]
    },
    {
      "cell_type": "code",
      "execution_count": null,
      "metadata": {
        "id": "2YUWUndbq7ad",
        "colab": {
          "base_uri": "https://localhost:8080/"
        },
        "outputId": "4696e208-25b6-4987-eb00-d7559b446d24"
      },
      "outputs": [
        {
          "output_type": "stream",
          "name": "stdout",
          "text": [
            "This program calulates and displays travel expenses\n",
            "\n"
          ]
        }
      ],
      "source": [
        "# Thomas Parnell\n",
        "# 2/13/2025\n",
        "# P1HW2\n",
        "# This program calculates ad display trvl expenses\n",
        "\n",
        "print(\"This program calulates and displays travel expenses\")\n",
        "print()\n",
        "\n",
        "# This section of the program allows the user to put in information that will be calulated later\n",
        "# for example gas/food/accomodations\n",
        "\n",
        "budget = float(input(\"Enter your budget:  \"))\n",
        "\n",
        "destination = input(\"Enter your travel destination:  \")\n",
        "\n",
        "gas = float(input(\"How much do you think you will spend on gas?  \"))\n",
        "\n",
        "accomodations = float(input(\"Approximately, how much will you need for accomodation/hotel?  \"))\n",
        "\n",
        "food = float(input(\"Last, how much do you need for food?  \"))\n",
        "\n",
        "\n",
        "# Travel Expenses section. all the data above will be calulated and you'll receive your budget plan\n",
        "\n",
        "print()\n",
        "print(\"-------Travel Expenses-------\")\n",
        "print()\n",
        "\n",
        "print (f\"Location:  {destination}\")\n",
        "print (f\"Initial Budget:  {budget}\")\n",
        "\n",
        "print()\n",
        "\n",
        "print (f\"Fuel:  ${gas}\")\n",
        "print (f\"Accomodation:  ${accomodations}\")\n",
        "print (f\"Food:  ${food}\")\n",
        "\n",
        "print()\n",
        "\n",
        "# Your balance that remains\n",
        "\n",
        "print (f\"Remaining Balance ${budget-gas-accomodations-food}\")"
      ]
    },
    {
      "cell_type": "code",
      "source": [],
      "metadata": {
        "id": "L3TOS-0xy9Sg"
      },
      "execution_count": null,
      "outputs": []
    }
  ]
}