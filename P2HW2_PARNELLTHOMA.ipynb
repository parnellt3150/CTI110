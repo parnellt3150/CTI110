{
  "nbformat": 4,
  "nbformat_minor": 0,
  "metadata": {
    "colab": {
      "provenance": [],
      "authorship_tag": "ABX9TyPW12qCRvpecDkzNh2wsXJM",
      "include_colab_link": true
    },
    "kernelspec": {
      "name": "python3",
      "display_name": "Python 3"
    },
    "language_info": {
      "name": "python"
    }
  },
  "cells": [
    {
      "cell_type": "markdown",
      "metadata": {
        "id": "view-in-github",
        "colab_type": "text"
      },
      "source": [
        "<a href=\"https://colab.research.google.com/github/parnellt3150/CTI110/blob/main/P2HW2_PARNELLTHOMA.ipynb\" target=\"_parent\"><img src=\"https://colab.research.google.com/assets/colab-badge.svg\" alt=\"Open In Colab\"/></a>"
      ]
    },
    {
      "cell_type": "code",
      "execution_count": 1,
      "metadata": {
        "id": "gfRjGCMX3F7f",
        "colab": {
          "base_uri": "https://localhost:8080/"
        },
        "outputId": "924da733-be98-4793-e21d-fab7e9cbfc9d"
      },
      "outputs": [
        {
          "output_type": "stream",
          "name": "stdout",
          "text": [
            "This program calculates and displays travel expenses\n",
            "\n",
            "Enter your budget: 2000\n",
            "Enter your travel destination: ne\n",
            "How much do you think you will spend on gas? 1\n",
            "Approximately, how much will you need for accommodation/hotel? 1\n",
            "Last, how much do you need for food? 1\n",
            "\n",
            "-------Travel Expenses-------\n",
            "\n",
            "Location: ne\n",
            "Initial Budget: $2000.00\n",
            "\n",
            "Fuel: $1.00\n",
            "Accommodation: $1.00\n",
            "Food: $1.00\n",
            "\n",
            "Location:           ne                       \n",
            "Initial Budget:     $2000.00                  \n",
            "Fuel:               $1.00                     \n",
            "Accommodation:      $1.00                     \n",
            "Food:               $1.00                     \n",
            "__ *__ *__ *__ *__ *__ *__ *__ *__ *__ *__ *__ *__ *__ *__ *__ *__ *__ *__ *__ *\n",
            "\n",
            "\n",
            "Remaining Balance:$1997.00                  \n"
          ]
        }
      ],
      "source": [
        "# Thomas Parnell\n",
        "# 2/13/2025\n",
        "# P2HW2\n",
        "# This program calculates and displays travel expenses\n",
        "print(\"This program calculates and displays travel expenses\")\n",
        "print()\n",
        "# Get user input\n",
        "budget = float(input(\"Enter your budget: \"))\n",
        "destination = input(\"Enter your travel destination: \")\n",
        "gas = float(input(\"How much do you think you will spend on gas? \"))\n",
        "accomodations = float(input(\"Approximately, how much will you need for accommodation/hotel? \"))\n",
        "food = float(input(\"Last, how much do you need for food? \"))\n",
        "# Display formatted expense report\n",
        "print()\n",
        "print(\"-------Travel Expenses-------\")\n",
        "print()\n",
        "# printing the expens\n",
        "print(f\"Location: {destination}\")\n",
        "print(f\"Initial Budget: ${budget:.2f}\") # Format budget to two decimal places\n",
        "print()\n",
        "print(f\"Fuel: ${gas:.2f}\") # Format expenses to two decimal places\n",
        "print(f\"Accommodation: ${accomodations:.2f}\")\n",
        "print(f\"Food: ${food:.2f}\")\n",
        "print()\n",
        "# formatting the expense report\n",
        "print(f\"{'Location:':<20}{destination:<25}\")\n",
        "print(f\"{'Initial Budget:':<20}${budget:<25.2f}\")\n",
        "print(f\"{'Fuel:':<20}${gas:<25.2f}\")\n",
        "print(f\"{'Accommodation:':<20}${accomodations:<25.2f}\")\n",
        "print(f\"{'Food:':<20}${food:<25.2f}\")\n",
        "print(\"__ *\" * 20)\n",
        "print()\n",
        "print()\n",
        "print(f\"{'Remaining Balance:':<18}${budget-gas-accomodations-food:<25.2f}\")"
      ]
    }
  ]
}