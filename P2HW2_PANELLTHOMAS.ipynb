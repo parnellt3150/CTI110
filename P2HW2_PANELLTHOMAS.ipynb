{
  "nbformat": 4,
  "nbformat_minor": 0,
  "metadata": {
    "colab": {
      "provenance": [],
      "toc_visible": true,
      "authorship_tag": "ABX9TyMO3DseSCKcfZmPZVEuJcdu",
      "include_colab_link": true
    },
    "kernelspec": {
      "name": "python3",
      "display_name": "Python 3"
    },
    "language_info": {
      "name": "python"
    }
  },
  "cells": [
    {
      "cell_type": "markdown",
      "metadata": {
        "id": "view-in-github",
        "colab_type": "text"
      },
      "source": [
        "<a href=\"https://colab.research.google.com/github/parnellt3150/CTI110/blob/main/P2HW2_PANELLTHOMAS.ipynb\" target=\"_parent\"><img src=\"https://colab.research.google.com/assets/colab-badge.svg\" alt=\"Open In Colab\"/></a>"
      ]
    },
    {
      "cell_type": "code",
      "execution_count": null,
      "metadata": {
        "id": "EpTdhd9mjbJA"
      },
      "outputs": [],
      "source": []
    },
    {
      "cell_type": "code",
      "source": [],
      "metadata": {
        "id": "qa9w9xvWjsQP"
      },
      "execution_count": null,
      "outputs": []
    },
    {
      "cell_type": "code",
      "source": [
        "# THOMAS PARNELL\n",
        "# 2/24//2025\n",
        "# P2HW2\n",
        "# ENTER GRADES FOLLOWING TEST\n",
        "\n",
        "# Get 6 Grares from the user they should be floats\n",
        "grade1 = float(input(\"Enter grade for Module 1: \"))\n",
        "\n"
      ],
      "metadata": {
        "colab": {
          "base_uri": "https://localhost:8080/"
        },
        "id": "ptqReb0lkWnl",
        "outputId": "23a25911-c210-44c9-9fcd-8b126d9c98ea"
      },
      "execution_count": 3,
      "outputs": [
        {
          "name": "stdout",
          "output_type": "stream",
          "text": [
            "Enter grade for Module 1: 25.55\n"
          ]
        }
      ]
    },
    {
      "cell_type": "code",
      "source": [],
      "metadata": {
        "id": "e3B9lmTwpams"
      },
      "execution_count": 2,
      "outputs": []
    },
    {
      "cell_type": "code",
      "source": [
        "# THOMAS PARNELL\n",
        "# 2/24//2025\n",
        "# P2HW2\n",
        "# ENTER GRADES FOLLOWING TEST\n",
        "\n",
        "# Get 6 Grares from the user they should be floats\n",
        "grade1 = float(input(\"Enter grade for Module 1: \"))\n",
        "grade2 = float(input(\"Enter grade for Module 2: \"))\n",
        "grade3 = float(input(\"Enter grade for Module 3: \"))\n",
        "grade4 = float(input(\"Enter grade for Module 4: \"))\n",
        "grade5 = float(input(\"Enter grade for Module 5: \"))\n",
        "grade6 = float(input(\"Enter grade for Module 6: \"))\n",
        "\n",
        "# create an empty list\n",
        "grade_list = []\n",
        "\n",
        "# use append method to add all grades into the list\n",
        "# coe looks like this : list_name.append()(what_to_add-to _list)\n",
        "grade_list.append(grade1)\n",
        "grade_list.append(grade2)\n",
        "grade_list.append(grade3)\n",
        "grade_list.append(grade4)\n",
        "grade_list.append(grade5)\n",
        "grade_list.append(grade6)\n",
        "\n",
        "# dispaly the list\n",
        "print(grade_list)\n",
        "print\n",
        "\n",
        "# Display Value to user\n",
        "print(\"-------------------Results----------------------------------------------\")\n",
        "print(f\"{'Lowest Grade:': <20} {min(grade_list)}\")\n",
        "print(f\"{'Highest Grade: ':<20} {max(grade_list)}\")\n",
        "print(f\"{'Sum of Grade:': <20} {sum(grade_list)}\")\n",
        "Average =sum(grade_list)/len(grade_list)\n",
        "print(f\"{'Average:': <20} {Average:.2f}\")\n",
        "print(\"------------------------------------------------------------------------\")\n",
        "\n",
        "\n",
        "\n",
        "\n",
        "\n"
      ],
      "metadata": {
        "colab": {
          "base_uri": "https://localhost:8080/"
        },
        "id": "qV-wBsNGnb00",
        "outputId": "a6e1557b-c77b-4f6b-e2d2-3d3970c3e18f"
      },
      "execution_count": 15,
      "outputs": [
        {
          "output_type": "stream",
          "name": "stdout",
          "text": [
            "Enter grade for Module 1: 10\n",
            "Enter grade for Module 2: 20\n",
            "Enter grade for Module 3: 30\n",
            "Enter grade for Module 4: 40\n",
            "Enter grade for Module 5: 50\n",
            "Enter grade for Module 6: 60\n",
            "[10.0, 20.0, 30.0, 40.0, 50.0, 60.0]\n",
            "-------------------Results----------------------------------------------\n",
            "Lowest Grade:        10.0\n",
            "Highest Grade:       60.0\n",
            "Sum of Grade:        210.0\n",
            "Average:             35.00\n",
            "------------------------------------------------------------------------\n"
          ]
        }
      ]
    },
    {
      "cell_type": "code",
      "source": [
        "\n"
      ],
      "metadata": {
        "id": "tbqzxxT3nZ-U"
      },
      "execution_count": 1,
      "outputs": []
    }
  ]
}