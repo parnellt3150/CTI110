{
  "cells": [
    {
      "cell_type": "code",
      "execution_count": null,
      "metadata": {
        "id": "peCMMLdO9M70"
      },
      "outputs": [],
      "source": []
    },
    {
      "cell_type": "code",
      "execution_count": null,
      "metadata": {
        "id": "jW7QDmFu-A7e"
      },
      "outputs": [],
      "source": [
        "from os import name\n",
        "# thomas parnell\n",
        "#2/5/2025\n",
        "#PILABA1\n",
        "#USING INPUT\n",
        "\n",
        "#GET iNFO FROM uSE\n",
        "f_name = input(\"Enter your first name\")\n",
        "l_name = input(\"Enter your last name\")\n",
        "\n",
        "# Display Greeting to User\n",
        "print(\"Hello,\", f_name, l_name +\"!\", \"Welcome to CTI-110\")"
      ]
    }
  ],
  "metadata": {
    "colab": {
      "provenance": []
    },
    "kernelspec": {
      "display_name": "Python 3",
      "name": "python3"
    },
    "language_info": {
      "name": "python"
    }
  },
  "nbformat": 4,
  "nbformat_minor": 0
}
