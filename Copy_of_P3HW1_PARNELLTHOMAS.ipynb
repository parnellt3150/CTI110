{
  "nbformat": 4,
  "nbformat_minor": 0,
  "metadata": {
    "colab": {
      "provenance": [],
      "authorship_tag": "ABX9TyOAPJ1p5T66JqMhuvfo/T6i",
      "include_colab_link": true
    },
    "kernelspec": {
      "name": "python3",
      "display_name": "Python 3"
    },
    "language_info": {
      "name": "python"
    }
  },
  "cells": [
    {
      "cell_type": "markdown",
      "metadata": {
        "id": "view-in-github",
        "colab_type": "text"
      },
      "source": [
        "<a href=\"https://colab.research.google.com/github/parnellt3150/CTI110/blob/main/Copy_of_P3HW1_PARNELLTHOMAS.ipynb\" target=\"_parent\"><img src=\"https://colab.research.google.com/assets/colab-badge.svg\" alt=\"Open In Colab\"/></a>"
      ]
    },
    {
      "cell_type": "code",
      "execution_count": null,
      "metadata": {
        "id": "Ais-KRlfoE9o"
      },
      "outputs": [],
      "source": []
    },
    {
      "cell_type": "code",
      "source": [
        "# PARNELL THOMAS\n",
        "# 03-013-2025\n",
        "# P3HW1\n",
        "\n",
        "#Description: Correcting a program that has bugs\n",
        "\n",
        "\n",
        "# This program takes a number grade , determines average and displays letter grade for average.\n",
        "\n",
        "# Enter grades for six modules\n",
        "\n",
        "mod_1 = float(input('Enter grade for Module 1: '))\n",
        "mod_2 = float(input('Enter grade for Module 2: '))\n",
        "mod_3 = float(input('Enter grade for Module 3: '))\n",
        "mod_4 = float(input('Enter grade for Module 1: '))\n",
        "mod_5 = float(input('Enter grade for Module 5: '))\n",
        "mod_6 = float(input('Enter grade for Module 6: '))\n",
        "\n",
        "# Add grades entered to a list\n",
        "\n",
        "grades = [mod_1, mod_2, mod_3, mod_4, mod_5, mod_6]\n",
        "\n",
        "# Determine lowest, highest , sum and average for grades\n",
        "\n",
        "low = min(grades)\n",
        "high = max(grades)\n",
        "total = sum(grades)\n",
        "avg = total / len(grades)\n",
        "\n",
        "print(\"\\n----------------Results---------------\")\n",
        "print(f\"\\nLowest Grade: {low}\")\n",
        "print(f\"Highest Grade: {high}\")\n",
        "print(f\"Sum of Grades: {total}\")\n",
        "print(f\"Average: {avg:.2f}\")\n",
        "print(\"----------------------------------------\")\n",
        "\n",
        "# determine letter grade for average\n",
        "\n",
        "\n",
        "if avg >= 90:\n",
        "    print('Your grade is: A')\n",
        "elif avg >= 80:\n",
        "    print('Your grade is: B')\n",
        "elif avg >= 70:\n",
        "    print('Your grade is: C')\n",
        "elif avg >= 60:\n",
        "    print('Your grade is: D')\n",
        "else:\n",
        "    print('Your grade is: F')"
      ],
      "metadata": {
        "id": "40uAln0CoP_s"
      },
      "execution_count": null,
      "outputs": []
    }
  ]
}