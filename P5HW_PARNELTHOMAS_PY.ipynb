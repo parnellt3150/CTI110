{
  "nbformat": 4,
  "nbformat_minor": 0,
  "metadata": {
    "colab": {
      "provenance": [],
      "authorship_tag": "ABX9TyNmPBa7zDQgK6UHlWaCdurr",
      "include_colab_link": true
    },
    "kernelspec": {
      "name": "python3",
      "display_name": "Python 3"
    },
    "language_info": {
      "name": "python"
    }
  },
  "cells": [
    {
      "cell_type": "markdown",
      "metadata": {
        "id": "view-in-github",
        "colab_type": "text"
      },
      "source": [
        "<a href=\"https://colab.research.google.com/github/parnellt3150/CTI110/blob/main/P5HW_PARNELTHOMAS_PY.ipynb\" target=\"_parent\"><img src=\"https://colab.research.google.com/assets/colab-badge.svg\" alt=\"Open In Colab\"/></a>"
      ]
    },
    {
      "cell_type": "code",
      "execution_count": null,
      "metadata": {
        "id": "PFa8xSm6dmBX",
        "outputId": "c3ac934a-0db6-4177-962e-8313420acc70",
        "colab": {
          "base_uri": "https://localhost:8080/"
        }
      },
      "outputs": [
        {
          "output_type": "stream",
          "name": "stdout",
          "text": [
            "Enter your name: me\n",
            "Welcome to the Enchanted Forest, me!\n",
            "Your guide is the Forest Guardian, who resides at the Ancient Oak.\n",
            "You arrive at a crossroad. Do you go left, right, or forward? righr\n",
            "You wander aimlessly, unsure where to go.\n",
            "You arrive at a crossroad. Do you go left, right, or forward? left\n",
            "You discover a hidden treasure beneath the roots! You win the game!\n",
            "Congratulations, me! With the enchanted treasure, you have won the adventure!\n",
            "Your adventure ends here. Try again for a different outcome!\n"
          ]
        }
      ],
      "source": [
        "import random\n",
        "import time\n",
        "\n",
        "# Function to return a game character/object as a dictionary\n",
        "def create_character():\n",
        "    return {\"name\": \"Forest Guardian\", \"power\": \"Mystic Protection\", \"location\": \"Ancient Oak\"}\n",
        "\n",
        "# User starts with an inventory\n",
        "def initialize_inventory():\n",
        "    return [\"Ancient Map\"]\n",
        "\n",
        "# User-defined function to explore a path\n",
        "def explore_path(choice, inventory):\n",
        "    if choice == \"left\":\n",
        "        print(\"You discover a hidden treasure beneath the roots! You win the game!\")\n",
        "        inventory.append(\"Forest Treasure\")\n",
        "        return True  # Winning condition\n",
        "    elif choice == \"right\":\n",
        "        print(\"You meet a talking fox, but there is no treasure here.\")\n",
        "    elif choice == \"forward\":\n",
        "        print(\"You arrive at the Ancient Oak where the Forest Guardian resides, but you need the treasure.\")\n",
        "    else:\n",
        "        print(\"You wander aimlessly, unsure where to go.\")\n",
        "    return False  # Not a winning choice\n",
        "\n",
        "# User-defined function to check inventory\n",
        "def check_inventory(inventory, player_name):\n",
        "    if \"Forest Treasure\" in inventory:\n",
        "        print(f\"Congratulations, {player_name}! With the enchanted treasure, you have won the adventure!\")\n",
        "    else:\n",
        "        print(f\"Sorry, {player_name}. You failed to find the treasure. Try again.\")\n",
        "\n",
        "# Main function\n",
        "def main():\n",
        "    player_name = input(\"Enter your name: \")  # Allow player to input their name\n",
        "    inventory = initialize_inventory()\n",
        "    character = create_character()\n",
        "\n",
        "    print(f\"Welcome to the Enchanted Forest, {player_name}!\")\n",
        "    print(f\"Your guide is the {character['name']}, who resides at the {character['location']}.\")\n",
        "\n",
        "    won = False  # Track win condition\n",
        "    for _ in range(2):\n",
        "        choice = input(\"You arrive at a crossroad. Do you go left, right, or forward? \").lower()\n",
        "        if explore_path(choice, inventory):\n",
        "            won = True\n",
        "            break  # End game once player wins\n",
        "\n",
        "    check_inventory(inventory, player_name)\n",
        "    print(\"Your adventure ends here. Try again for a different outcome!\")\n",
        "\n",
        "# Run the game\n",
        "if __name__ == \"__main__\":\n",
        "    main()\n"
      ]
    }
  ]
}