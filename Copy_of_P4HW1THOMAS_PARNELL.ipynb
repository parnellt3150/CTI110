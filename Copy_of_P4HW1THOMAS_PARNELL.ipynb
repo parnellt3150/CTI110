{
  "nbformat": 4,
  "nbformat_minor": 0,
  "metadata": {
    "colab": {
      "provenance": [],
      "authorship_tag": "ABX9TyPEhh9ELbR3qUC9lJc1GOdP",
      "include_colab_link": true
    },
    "kernelspec": {
      "name": "python3",
      "display_name": "Python 3"
    },
    "language_info": {
      "name": "python"
    }
  },
  "cells": [
    {
      "cell_type": "markdown",
      "metadata": {
        "id": "view-in-github",
        "colab_type": "text"
      },
      "source": [
        "<a href=\"https://colab.research.google.com/github/parnellt3150/CTI110/blob/main/Copy_of_P4HW1THOMAS_PARNELL.ipynb\" target=\"_parent\"><img src=\"https://colab.research.google.com/assets/colab-badge.svg\" alt=\"Open In Colab\"/></a>"
      ]
    },
    {
      "cell_type": "code",
      "execution_count": null,
      "metadata": {
        "colab": {
          "base_uri": "https://localhost:8080/"
        },
        "id": "6nr125vCeyDB",
        "outputId": "f7a105bf-a2a4-45f6-f218-708e90f1f277"
      },
      "outputs": [
        {
          "output_type": "stream",
          "name": "stdout",
          "text": [
            "How many scores do you want to enter? 5\n",
            "\n",
            "Enter score #1: 67\n",
            "Enter score #2: 75\n",
            "Enter score #3: -1\n",
            "\n",
            "INVALID Score entred!!!!\n",
            "Score should be between 0 and 100\n",
            "Enter score #3: 86\n",
            "Enter score #4: 45\n",
            "Enter score #5: 90\n",
            "\n",
            "-----------------------------Results---------------------\n",
            "Lowest score  : 45.0\n",
            "Modified List : [67.0, 75.0, 86.0, 90.0]\n",
            "Score Average :  79.500000\n",
            "Grade         : C\n",
            "--------------------------------------------------------\n"
          ]
        }
      ],
      "source": [
        "# PARNELL_THOMAS\n",
        "# P4HW1\n",
        "# 03/35/2025\n",
        "\n",
        "# Recives serirs of codes frm user\n",
        "# Program ad scores to list\n",
        "# Program deteimines lowest score\n",
        "# Program drop lowest score\n",
        "# program calcultes average score\n",
        "# Print lowext score. modified list, scores average and grade\n",
        "\n",
        "\n",
        "num_scores = int(input('How many scores do you want to enter? '))\n",
        "print()\n",
        "i = 1\n",
        "total_score=[]\n",
        "\n",
        "while i<=num_scores:\n",
        "  print('Enter score #{}: '.format(i), end= '')\n",
        "  score = float(input())\n",
        "\n",
        "  if score<0 or score>100:\n",
        "    print()\n",
        "    print('INVALID Score entred!!!!')\n",
        "    print('Score should be between 0 and 100')\n",
        "\n",
        "  else:\n",
        "    total_score.append(score)\n",
        "    i+=1\n",
        "\n",
        "lowest_score = min(total_score)\n",
        "total_score.remove(lowest_score)\n",
        "score_avg = sum(total_score)/len(total_score)\n",
        "\n",
        "if score_avg>=90:\n",
        "  grade = 'A'\n",
        "elif score_avg>=80:\n",
        "  grade = 'B'\n",
        "elif score_avg>=70:\n",
        "  grade = 'C'\n",
        "elif score_avg>=60:\n",
        "  grade = 'D'\n",
        "else: grade = 'F'\n",
        "\n",
        "print()\n",
        "\n",
        "print('-----------------------------Results---------------------')\n",
        "print('Lowest score  :',lowest_score)\n",
        "print('Modified List :',total_score)\n",
        "print('Score Average :',f'{score_avg: 2f}')\n",
        "print('Grade         :',grade)\n",
        "print('--------------------------------------------------------')\n",
        "\n",
        "\n"
      ]
    }
  ]
}